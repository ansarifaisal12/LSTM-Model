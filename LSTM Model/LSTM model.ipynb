{
 "cells": [
  {
   "cell_type": "code",
   "execution_count": 4,
   "id": "7df767c3",
   "metadata": {},
   "outputs": [],
   "source": [
    "import numpy as np\n",
    "import matplotlib.pyplot as plt\n",
    "import pandas as pd\n",
    "import math\n",
    "from keras.models import Sequential\n",
    "from keras.layers import Dense\n",
    "from keras.layers import LSTM\n",
    "from sklearn.preprocessing import MinMaxScaler\n",
    "from sklearn.metrics import mean_squared_error\n",
    "# fix random seed for reproducibility\n",
    "numpy.random.seed(7)"
   ]
  },
  {
   "cell_type": "code",
   "execution_count": 5,
   "id": "d6798549",
   "metadata": {},
   "outputs": [],
   "source": [
    "# load the dataset\n",
    "dataframe = pandas.read_csv('airline-passengers.csv', usecols=[1], engine='python')\n",
    "dataset = dataframe.values\n",
    "dataset = dataset.astype('float32')\n",
    "# normalize the dataset\n",
    "scaler = MinMaxScaler(feature_range=(0, 1))\n",
    "dataset = scaler.fit_transform(dataset)"
   ]
  },
  {
   "cell_type": "code",
   "execution_count": 6,
   "id": "e5973204",
   "metadata": {},
   "outputs": [
    {
     "name": "stdout",
     "output_type": "stream",
     "text": [
      "96 48\n"
     ]
    }
   ],
   "source": [
    "# split into train and test sets\n",
    "train_size = int(len(dataset) * 0.67)\n",
    "test_size = len(dataset) - train_size\n",
    "train, test = dataset[0:train_size,:], dataset[train_size:len(dataset),:]\n",
    "print(len(train), len(test))"
   ]
  },
  {
   "cell_type": "code",
   "execution_count": 9,
   "id": "c2ebfe1a",
   "metadata": {},
   "outputs": [],
   "source": [
    "# convert an array of values into a dataset matrix\n",
    "def create_dataset(dataset, look_back=1):\n",
    "\tdataX, dataY = [], []\n",
    "\tfor i in range(len(dataset)-look_back-1):\n",
    "\t\ta = dataset[i:(i+look_back), 0]\n",
    "\t\tdataX.append(a)\n",
    "\t\tdataY.append(dataset[i + look_back, 0])\n",
    "\treturn numpy.array(dataX), numpy.array(dataY)"
   ]
  },
  {
   "cell_type": "code",
   "execution_count": 11,
   "id": "8436f567",
   "metadata": {},
   "outputs": [],
   "source": [
    "# reshape into X=t and Y=t+1\n",
    "look_back = 1\n",
    "trainX, trainY = create_dataset(train, look_back)\n",
    "testX, testY = create_dataset(test, look_back)\n",
    "# reshape input to be [samples, time steps, features]\n",
    "trainX = numpy.reshape(trainX, (trainX.shape[0], 1, trainX.shape[1]))\n",
    "testX = numpy.reshape(testX, (testX.shape[0], 1, testX.shape[1]))"
   ]
  },
  {
   "cell_type": "code",
   "execution_count": 12,
   "id": "f1b2cbb7",
   "metadata": {},
   "outputs": [
    {
     "name": "stdout",
     "output_type": "stream",
     "text": [
      "Epoch 1/100\n",
      "94/94 - 5s - loss: 0.0443 - 5s/epoch - 58ms/step\n",
      "Epoch 2/100\n",
      "94/94 - 0s - loss: 0.0224 - 172ms/epoch - 2ms/step\n",
      "Epoch 3/100\n",
      "94/94 - 0s - loss: 0.0164 - 141ms/epoch - 1ms/step\n",
      "Epoch 4/100\n",
      "94/94 - 0s - loss: 0.0149 - 172ms/epoch - 2ms/step\n",
      "Epoch 5/100\n",
      "94/94 - 0s - loss: 0.0142 - 152ms/epoch - 2ms/step\n",
      "Epoch 6/100\n",
      "94/94 - 0s - loss: 0.0132 - 156ms/epoch - 2ms/step\n",
      "Epoch 7/100\n",
      "94/94 - 0s - loss: 0.0124 - 156ms/epoch - 2ms/step\n",
      "Epoch 8/100\n",
      "94/94 - 0s - loss: 0.0114 - 156ms/epoch - 2ms/step\n",
      "Epoch 9/100\n",
      "94/94 - 0s - loss: 0.0104 - 156ms/epoch - 2ms/step\n",
      "Epoch 10/100\n",
      "94/94 - 0s - loss: 0.0095 - 156ms/epoch - 2ms/step\n",
      "Epoch 11/100\n",
      "94/94 - 0s - loss: 0.0085 - 205ms/epoch - 2ms/step\n",
      "Epoch 12/100\n",
      "94/94 - 0s - loss: 0.0075 - 156ms/epoch - 2ms/step\n",
      "Epoch 13/100\n",
      "94/94 - 0s - loss: 0.0066 - 154ms/epoch - 2ms/step\n",
      "Epoch 14/100\n",
      "94/94 - 0s - loss: 0.0059 - 141ms/epoch - 1ms/step\n",
      "Epoch 15/100\n",
      "94/94 - 0s - loss: 0.0051 - 187ms/epoch - 2ms/step\n",
      "Epoch 16/100\n",
      "94/94 - 0s - loss: 0.0044 - 141ms/epoch - 1ms/step\n",
      "Epoch 17/100\n",
      "94/94 - 0s - loss: 0.0039 - 156ms/epoch - 2ms/step\n",
      "Epoch 18/100\n",
      "94/94 - 0s - loss: 0.0033 - 141ms/epoch - 1ms/step\n",
      "Epoch 19/100\n",
      "94/94 - 0s - loss: 0.0030 - 156ms/epoch - 2ms/step\n",
      "Epoch 20/100\n",
      "94/94 - 0s - loss: 0.0027 - 141ms/epoch - 1ms/step\n",
      "Epoch 21/100\n",
      "94/94 - 0s - loss: 0.0025 - 156ms/epoch - 2ms/step\n",
      "Epoch 22/100\n",
      "94/94 - 0s - loss: 0.0023 - 146ms/epoch - 2ms/step\n",
      "Epoch 23/100\n",
      "94/94 - 0s - loss: 0.0023 - 144ms/epoch - 2ms/step\n",
      "Epoch 24/100\n",
      "94/94 - 0s - loss: 0.0022 - 141ms/epoch - 1ms/step\n",
      "Epoch 25/100\n",
      "94/94 - 0s - loss: 0.0022 - 156ms/epoch - 2ms/step\n",
      "Epoch 26/100\n",
      "94/94 - 0s - loss: 0.0021 - 156ms/epoch - 2ms/step\n",
      "Epoch 27/100\n",
      "94/94 - 0s - loss: 0.0021 - 141ms/epoch - 1ms/step\n",
      "Epoch 28/100\n",
      "94/94 - 0s - loss: 0.0021 - 156ms/epoch - 2ms/step\n",
      "Epoch 29/100\n",
      "94/94 - 0s - loss: 0.0022 - 141ms/epoch - 1ms/step\n",
      "Epoch 30/100\n",
      "94/94 - 0s - loss: 0.0021 - 141ms/epoch - 1ms/step\n",
      "Epoch 31/100\n",
      "94/94 - 0s - loss: 0.0021 - 141ms/epoch - 1ms/step\n",
      "Epoch 32/100\n",
      "94/94 - 0s - loss: 0.0020 - 141ms/epoch - 1ms/step\n",
      "Epoch 33/100\n",
      "94/94 - 0s - loss: 0.0021 - 141ms/epoch - 1ms/step\n",
      "Epoch 34/100\n",
      "94/94 - 0s - loss: 0.0021 - 141ms/epoch - 1ms/step\n",
      "Epoch 35/100\n",
      "94/94 - 0s - loss: 0.0021 - 141ms/epoch - 1ms/step\n",
      "Epoch 36/100\n",
      "94/94 - 0s - loss: 0.0021 - 156ms/epoch - 2ms/step\n",
      "Epoch 37/100\n",
      "94/94 - 0s - loss: 0.0021 - 156ms/epoch - 2ms/step\n",
      "Epoch 38/100\n",
      "94/94 - 0s - loss: 0.0021 - 141ms/epoch - 1ms/step\n",
      "Epoch 39/100\n",
      "94/94 - 0s - loss: 0.0020 - 156ms/epoch - 2ms/step\n",
      "Epoch 40/100\n",
      "94/94 - 0s - loss: 0.0021 - 156ms/epoch - 2ms/step\n",
      "Epoch 41/100\n",
      "94/94 - 0s - loss: 0.0021 - 141ms/epoch - 1ms/step\n",
      "Epoch 42/100\n",
      "94/94 - 0s - loss: 0.0021 - 156ms/epoch - 2ms/step\n",
      "Epoch 43/100\n",
      "94/94 - 0s - loss: 0.0020 - 141ms/epoch - 1ms/step\n",
      "Epoch 44/100\n",
      "94/94 - 0s - loss: 0.0021 - 141ms/epoch - 1ms/step\n",
      "Epoch 45/100\n",
      "94/94 - 0s - loss: 0.0021 - 141ms/epoch - 1ms/step\n",
      "Epoch 46/100\n",
      "94/94 - 0s - loss: 0.0021 - 141ms/epoch - 1ms/step\n",
      "Epoch 47/100\n",
      "94/94 - 0s - loss: 0.0021 - 156ms/epoch - 2ms/step\n",
      "Epoch 48/100\n",
      "94/94 - 0s - loss: 0.0021 - 141ms/epoch - 1ms/step\n",
      "Epoch 49/100\n",
      "94/94 - 0s - loss: 0.0021 - 156ms/epoch - 2ms/step\n",
      "Epoch 50/100\n",
      "94/94 - 0s - loss: 0.0021 - 156ms/epoch - 2ms/step\n",
      "Epoch 51/100\n",
      "94/94 - 0s - loss: 0.0021 - 156ms/epoch - 2ms/step\n",
      "Epoch 52/100\n",
      "94/94 - 0s - loss: 0.0020 - 190ms/epoch - 2ms/step\n",
      "Epoch 53/100\n",
      "94/94 - 0s - loss: 0.0021 - 156ms/epoch - 2ms/step\n",
      "Epoch 54/100\n",
      "94/94 - 0s - loss: 0.0021 - 189ms/epoch - 2ms/step\n",
      "Epoch 55/100\n",
      "94/94 - 0s - loss: 0.0021 - 250ms/epoch - 3ms/step\n",
      "Epoch 56/100\n",
      "94/94 - 0s - loss: 0.0022 - 199ms/epoch - 2ms/step\n",
      "Epoch 57/100\n",
      "94/94 - 0s - loss: 0.0021 - 160ms/epoch - 2ms/step\n",
      "Epoch 58/100\n",
      "94/94 - 0s - loss: 0.0021 - 175ms/epoch - 2ms/step\n",
      "Epoch 59/100\n",
      "94/94 - 0s - loss: 0.0020 - 165ms/epoch - 2ms/step\n",
      "Epoch 60/100\n",
      "94/94 - 0s - loss: 0.0020 - 176ms/epoch - 2ms/step\n",
      "Epoch 61/100\n",
      "94/94 - 0s - loss: 0.0021 - 170ms/epoch - 2ms/step\n",
      "Epoch 62/100\n",
      "94/94 - 0s - loss: 0.0021 - 168ms/epoch - 2ms/step\n",
      "Epoch 63/100\n",
      "94/94 - 0s - loss: 0.0021 - 168ms/epoch - 2ms/step\n",
      "Epoch 64/100\n",
      "94/94 - 0s - loss: 0.0021 - 167ms/epoch - 2ms/step\n",
      "Epoch 65/100\n",
      "94/94 - 0s - loss: 0.0021 - 179ms/epoch - 2ms/step\n",
      "Epoch 66/100\n",
      "94/94 - 0s - loss: 0.0020 - 224ms/epoch - 2ms/step\n",
      "Epoch 67/100\n",
      "94/94 - 0s - loss: 0.0021 - 176ms/epoch - 2ms/step\n",
      "Epoch 68/100\n",
      "94/94 - 0s - loss: 0.0021 - 170ms/epoch - 2ms/step\n",
      "Epoch 69/100\n",
      "94/94 - 0s - loss: 0.0020 - 383ms/epoch - 4ms/step\n",
      "Epoch 70/100\n",
      "94/94 - 0s - loss: 0.0021 - 163ms/epoch - 2ms/step\n",
      "Epoch 71/100\n",
      "94/94 - 0s - loss: 0.0021 - 324ms/epoch - 3ms/step\n",
      "Epoch 72/100\n",
      "94/94 - 0s - loss: 0.0020 - 175ms/epoch - 2ms/step\n",
      "Epoch 73/100\n",
      "94/94 - 0s - loss: 0.0021 - 181ms/epoch - 2ms/step\n",
      "Epoch 74/100\n",
      "94/94 - 0s - loss: 0.0021 - 359ms/epoch - 4ms/step\n",
      "Epoch 75/100\n",
      "94/94 - 0s - loss: 0.0021 - 301ms/epoch - 3ms/step\n",
      "Epoch 76/100\n",
      "94/94 - 0s - loss: 0.0020 - 257ms/epoch - 3ms/step\n",
      "Epoch 77/100\n",
      "94/94 - 0s - loss: 0.0020 - 277ms/epoch - 3ms/step\n",
      "Epoch 78/100\n",
      "94/94 - 0s - loss: 0.0021 - 180ms/epoch - 2ms/step\n",
      "Epoch 79/100\n",
      "94/94 - 0s - loss: 0.0020 - 192ms/epoch - 2ms/step\n",
      "Epoch 80/100\n",
      "94/94 - 0s - loss: 0.0020 - 172ms/epoch - 2ms/step\n",
      "Epoch 81/100\n",
      "94/94 - 0s - loss: 0.0021 - 185ms/epoch - 2ms/step\n",
      "Epoch 82/100\n",
      "94/94 - 0s - loss: 0.0021 - 176ms/epoch - 2ms/step\n",
      "Epoch 83/100\n",
      "94/94 - 0s - loss: 0.0020 - 182ms/epoch - 2ms/step\n",
      "Epoch 84/100\n",
      "94/94 - 0s - loss: 0.0021 - 187ms/epoch - 2ms/step\n",
      "Epoch 85/100\n",
      "94/94 - 0s - loss: 0.0021 - 175ms/epoch - 2ms/step\n",
      "Epoch 86/100\n",
      "94/94 - 0s - loss: 0.0021 - 179ms/epoch - 2ms/step\n",
      "Epoch 87/100\n",
      "94/94 - 0s - loss: 0.0020 - 183ms/epoch - 2ms/step\n",
      "Epoch 88/100\n",
      "94/94 - 0s - loss: 0.0021 - 206ms/epoch - 2ms/step\n",
      "Epoch 89/100\n",
      "94/94 - 0s - loss: 0.0021 - 242ms/epoch - 3ms/step\n",
      "Epoch 90/100\n",
      "94/94 - 0s - loss: 0.0021 - 172ms/epoch - 2ms/step\n",
      "Epoch 91/100\n",
      "94/94 - 0s - loss: 0.0021 - 202ms/epoch - 2ms/step\n",
      "Epoch 92/100\n",
      "94/94 - 0s - loss: 0.0021 - 243ms/epoch - 3ms/step\n",
      "Epoch 93/100\n",
      "94/94 - 0s - loss: 0.0020 - 166ms/epoch - 2ms/step\n",
      "Epoch 94/100\n",
      "94/94 - 0s - loss: 0.0021 - 228ms/epoch - 2ms/step\n",
      "Epoch 95/100\n",
      "94/94 - 0s - loss: 0.0021 - 208ms/epoch - 2ms/step\n",
      "Epoch 96/100\n",
      "94/94 - 0s - loss: 0.0020 - 199ms/epoch - 2ms/step\n",
      "Epoch 97/100\n",
      "94/94 - 0s - loss: 0.0021 - 195ms/epoch - 2ms/step\n",
      "Epoch 98/100\n",
      "94/94 - 0s - loss: 0.0020 - 182ms/epoch - 2ms/step\n",
      "Epoch 99/100\n",
      "94/94 - 0s - loss: 0.0021 - 184ms/epoch - 2ms/step\n",
      "Epoch 100/100\n",
      "94/94 - 0s - loss: 0.0020 - 193ms/epoch - 2ms/step\n"
     ]
    },
    {
     "data": {
      "text/plain": [
       "<keras.callbacks.History at 0x16fa5cd70a0>"
      ]
     },
     "execution_count": 12,
     "metadata": {},
     "output_type": "execute_result"
    }
   ],
   "source": [
    "# create and fit the LSTM network\n",
    "model = Sequential()\n",
    "model.add(LSTM(4, input_shape=(1, look_back)))\n",
    "model.add(Dense(1))\n",
    "model.compile(loss='mean_squared_error', optimizer='adam')\n",
    "model.fit(trainX, trainY, epochs=100, batch_size=1, verbose=2)"
   ]
  },
  {
   "cell_type": "code",
   "execution_count": 13,
   "id": "544030d3",
   "metadata": {},
   "outputs": [
    {
     "name": "stdout",
     "output_type": "stream",
     "text": [
      "3/3 [==============================] - 2s 3ms/step\n",
      "2/2 [==============================] - 0s 4ms/step\n"
     ]
    }
   ],
   "source": [
    "# make predictions\n",
    "trainPredict = model.predict(trainX)\n",
    "testPredict = model.predict(testX)"
   ]
  },
  {
   "cell_type": "code",
   "execution_count": 14,
   "id": "37329962",
   "metadata": {},
   "outputs": [],
   "source": [
    "# invert predictions\n",
    "trainPredict = scaler.inverse_transform(trainPredict)\n",
    "trainY = scaler.inverse_transform([trainY])\n",
    "testPredict = scaler.inverse_transform(testPredict)\n",
    "testY = scaler.inverse_transform([testY])"
   ]
  },
  {
   "cell_type": "code",
   "execution_count": 15,
   "id": "1bbff567",
   "metadata": {},
   "outputs": [],
   "source": [
    "# calculate root mean squared error\n",
    "trainScore = math.sqrt(mean_squared_error(trainY[0], trainPredict[:,0]))\n",
    "testScore = math.sqrt(mean_squared_error(testY[0], testPredict[:,0]))"
   ]
  },
  {
   "cell_type": "code",
   "execution_count": 16,
   "id": "eedc6c47",
   "metadata": {},
   "outputs": [
    {
     "data": {
      "text/plain": [
       "23.10013788004585"
      ]
     },
     "execution_count": 16,
     "metadata": {},
     "output_type": "execute_result"
    }
   ],
   "source": [
    "trainScore"
   ]
  },
  {
   "cell_type": "code",
   "execution_count": 17,
   "id": "69402f79",
   "metadata": {},
   "outputs": [
    {
     "data": {
      "image/png": "[encoded data removed]",
      "text/plain": [
       "<Figure size 640x480 with 1 Axes>"
      ]
     },
     "metadata": {},
     "output_type": "display_data"
    }
   ],
   "source": [
    "# shift train predictions for plotting\n",
    "trainPredictPlot = numpy.empty_like(dataset)\n",
    "trainPredictPlot[:, :] = numpy.nan\n",
    "trainPredictPlot[look_back:len(trainPredict)+look_back, :] = trainPredict\n",
    "# shift test predictions for plotting\n",
    "testPredictPlot = numpy.empty_like(dataset)\n",
    "testPredictPlot[:, :] = numpy.nan\n",
    "testPredictPlot[len(trainPredict)+(look_back*2)+1:len(dataset)-1, :] = testPredict\n",
    "# plot baseline and predictions\n",
    "plt.plot(scaler.inverse_transform(dataset))\n",
    "plt.plot(trainPredictPlot)\n",
    "plt.plot(testPredictPlot)\n",
    "plt.show()"
   ]
  },
  {
   "cell_type": "code",
   "execution_count": null,
   "id": "16ff458f",
   "metadata": {},
   "outputs": [],
   "source": []
  }
 ],
 "metadata": {
  "kernelspec": {
   "display_name": "Python 3 (ipykernel)",
   "language": "python",
   "name": "python3"
  },
  "language_info": {
   "codemirror_mode": {
    "name": "ipython",
    "version": 3
   },
   "file_extension": ".py",
   "mimetype": "text/x-python",
   "name": "python",
   "nbconvert_exporter": "python",
   "pygments_lexer": "ipython3",
   "version": "3.10.8"
  }
 },
 "nbformat": 4,
 "nbformat_minor": 5
}
